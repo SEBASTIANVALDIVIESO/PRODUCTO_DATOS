{
  "cells": [
    {
      "cell_type": "markdown",
      "metadata": {
        "id": "view-in-github",
        "colab_type": "text"
      },
      "source": [
        "<a href=\"https://colab.research.google.com/github/SEBASTIANVALDIVIESO/PRODUCTO_DATOS/blob/main/04_MODELADO_ML_(archivo_de_predicciones)_Version_final_15_feb_25.ipynb\" target=\"_parent\"><img src=\"https://colab.research.google.com/assets/colab-badge.svg\" alt=\"Open In Colab\"/></a>"
      ]
    },
    {
      "cell_type": "markdown",
      "metadata": {
        "id": "8aSiGCA00WJs"
      },
      "source": [
        "**1. MODELADO PREDICCION DE LA DEMANDA FUTURA DE INTERNET EN COLOMBIA**"
      ]
    },
    {
      "cell_type": "markdown",
      "metadata": {
        "id": "Cdn2nMfobTsY"
      },
      "source": [
        "# Importacion de Base de datos, Librerias.."
      ]
    },
    {
      "cell_type": "code",
      "execution_count": null,
      "metadata": {
        "id": "1KO6eBlz0ZNL"
      },
      "outputs": [],
      "source": [
        "# Elaborar un cuadro donde se diga porque se selecciono ese modelo?\n",
        "\n",
        "\n",
        "\n",
        "# Importar librerías necesarias\n",
        "import pandas as pd\n",
        "import numpy as np\n",
        "import matplotlib.pyplot as plt\n",
        "import seaborn as sns\n",
        "from sklearn.model_selection import train_test_split\n",
        "from sklearn.compose import ColumnTransformer\n",
        "from sklearn.pipeline import Pipeline\n",
        "from sklearn.preprocessing import OneHotEncoder, StandardScaler, LabelEncoder\n",
        "from sklearn.ensemble import RandomForestRegressor\n",
        "from sklearn.metrics import mean_squared_error, r2_score\n",
        "from xgboost import XGBRegressor\n"
      ]
    },
    {
      "cell_type": "code",
      "execution_count": null,
      "metadata": {
        "id": "jccRQgRS3KZG",
        "colab": {
          "base_uri": "https://localhost:8080/"
        },
        "outputId": "b5586c5c-184e-484e-f2bb-d2378db9eb4b"
      },
      "outputs": [
        {
          "output_type": "stream",
          "name": "stdout",
          "text": [
            "Drive already mounted at /content/drive; to attempt to forcibly remount, call drive.mount(\"/content/drive\", force_remount=True).\n",
            "/content/drive/MyDrive/Notebooks_Clase_2/content/producto_de_datos\n"
          ]
        }
      ],
      "source": [
        "from google.colab import drive\n",
        "\n",
        "drive.mount('/content/drive')\n",
        "\n",
        "%cd /content/drive/MyDrive/Notebooks_Clase_2/content/producto_de_datos"
      ]
    },
    {
      "cell_type": "code",
      "execution_count": null,
      "metadata": {
        "id": "Il6XnQnC3c6w"
      },
      "outputs": [],
      "source": [
        "# Ruta completa del archivo CSV\n",
        "file_path = 'DATOS_LIMPIOS.csv'\n",
        "\n",
        "df = pd.read_csv(file_path)"
      ]
    },
    {
      "cell_type": "code",
      "source": [
        "import pandas as pd\n",
        "import numpy as np\n",
        "import matplotlib.pyplot as plt\n",
        "import seaborn as sns\n",
        "from sklearn.ensemble import RandomForestRegressor\n",
        "from sklearn.metrics import mean_squared_error, r2_score\n",
        "\n",
        "# 1️⃣ Cargar y preparar los datos\n",
        "datos_completos_df = pd.read_csv('DATOS_LIMPIOS.csv')\n",
        "\n",
        "# Convertir la columna \"FECHA\" a datetime y extraer el año y mes\n",
        "datos_completos_df[\"FECHA\"] = pd.to_datetime(datos_completos_df[\"FECHA\"], errors='coerce')\n",
        "datos_completos_df[\"AÑO\"] = datos_completos_df[\"FECHA\"].dt.year\n",
        "datos_completos_df[\"MES\"] = datos_completos_df[\"FECHA\"].dt.month\n",
        "\n",
        "# Guardar copia del código de municipio antes de codificarlo\n",
        "datos_completos_df[\"COD_MUNICIPIO_ORIGINAL\"] = datos_completos_df[\"COD_MUNICIPIO\"].astype(str)\n",
        "\n",
        "# Codificar solo \"PROVEEDOR\" por frecuencia\n",
        "def encode_frequency(column):\n",
        "    freq = datos_completos_df[column].value_counts(normalize=True)\n",
        "    return datos_completos_df[column].map(freq)\n",
        "\n",
        "datos_completos_df[\"PROVEEDOR\"] = encode_frequency(\"PROVEEDOR\")\n",
        "\n",
        "# Aplicar One-Hot Encoding a \"SEGMENTO\" y \"TECNOLOGIA\"\n",
        "datos_completos_encoded = pd.get_dummies(datos_completos_df, columns=[\"SEGMENTO\", \"TECNOLOGIA\"], drop_first=True)\n",
        "\n",
        "# Separar datos en entrenamiento (<=2022) y prueba (2023)\n",
        "train_df = datos_completos_encoded[datos_completos_encoded[\"AÑO\"] <= 2022]\n",
        "test_df = datos_completos_encoded[datos_completos_encoded[\"AÑO\"] == 2023]\n",
        "\n",
        "# Separar variables predictoras y objetivo sin usar COD_MUNICIPIO como predictor\n",
        "X_train = train_df.drop(columns=[\"SUSCRIPTORES\", \"FECHA\", \"AÑO\", \"MES\", \"COD_MUNICIPIO\"])\n",
        "y_train = train_df[\"SUSCRIPTORES\"]\n",
        "\n",
        "X_test = test_df.drop(columns=[\"SUSCRIPTORES\", \"FECHA\", \"AÑO\", \"MES\", \"COD_MUNICIPIO\"])\n",
        "y_test = test_df[\"SUSCRIPTORES\"]\n",
        "\n",
        "# Entrenar el modelo Random Forest\n",
        "rf_model = RandomForestRegressor(n_estimators=100, random_state=42)\n",
        "rf_model.fit(X_train, y_train)\n",
        "\n",
        "# Hacer predicciones en entrenamiento y prueba\n",
        "y_train_pred = rf_model.predict(X_train)\n",
        "y_test_pred = rf_model.predict(X_test)\n",
        "\n",
        "# Calcular errores\n",
        "mse_train = mean_squared_error(y_train, y_train_pred)\n",
        "mse_test = mean_squared_error(y_test, y_test_pred)\n",
        "r2_train = r2_score(y_train, y_train_pred)\n",
        "r2_test = r2_score(y_test, y_test_pred)\n",
        "\n",
        "# Mostrar métricas del modelo\n",
        "print(f\"MSE Entrenamiento: {mse_train:.2f}, R² Entrenamiento: {r2_train:.4f}\")\n",
        "print(f\"MSE Prueba: {mse_test:.2f}, R² Prueba: {r2_test:.4f}\")"
      ],
      "metadata": {
        "id": "x2H9YTp2RwZb",
        "colab": {
          "base_uri": "https://localhost:8080/"
        },
        "outputId": "5d414082-c1ed-4c27-ebda-6ebd408cef60"
      },
      "execution_count": null,
      "outputs": [
        {
          "output_type": "stream",
          "name": "stdout",
          "text": [
            "MSE Entrenamiento: 3407.97, R² Entrenamiento: 0.9970\n",
            "MSE Prueba: 6984.26, R² Prueba: 0.9715\n"
          ]
        }
      ]
    },
    {
      "cell_type": "code",
      "source": [
        "# Visualizar distribución de errores\n",
        "residuals_train = y_train - y_train_pred\n",
        "residuals_test = y_test - y_test_pred\n",
        "\n",
        "plt.figure(figsize=(12, 5))\n",
        "sns.histplot(residuals_train, bins=50, color='blue', label=\"Entrenamiento (Errores)\", kde=True)\n",
        "sns.histplot(residuals_test, bins=50, color='red', label=\"Prueba (Errores)\", kde=True, alpha=0.6)\n",
        "plt.xlabel(\"Error de Predicción (SUSCRIPTORES)\")\n",
        "plt.ylabel(\"Frecuencia\")\n",
        "plt.title(\"Distribución de Errores en Entrenamiento vs Prueba\")\n",
        "plt.legend()\n",
        "plt.show()"
      ],
      "metadata": {
        "id": "r_9mPrDxHFzp",
        "colab": {
          "base_uri": "https://localhost:8080/",
          "height": 487
        },
        "outputId": "f340e3e7-92c2-442c-ee4a-cadf63842237"
      },
      "execution_count": null,
      "outputs": [
        {
          "output_type": "display_data",
          "data": {
            "text/plain": [
              "<Figure size 1200x500 with 1 Axes>"
            ],
            "image/png": "[encoded data removed]"
          },
          "metadata": {}
        }
      ]
    },
    {
      "cell_type": "code",
      "source": [
        "# Restaurar los valores originales de COD_MUNICIPIO antes de exportar\n",
        "test_df[\"COD_MUNICIPIO\"] = test_df[\"COD_MUNICIPIO_ORIGINAL\"]"
      ],
      "metadata": {
        "colab": {
          "base_uri": "https://localhost:8080/"
        },
        "id": "gdrDqcCTSwq1",
        "outputId": "1d064e3a-5340-432e-8852-38e816d44bed"
      },
      "execution_count": null,
      "outputs": [
        {
          "output_type": "stream",
          "name": "stderr",
          "text": [
            "<ipython-input-6-e92ba71656ff>:2: SettingWithCopyWarning: \n",
            "A value is trying to be set on a copy of a slice from a DataFrame.\n",
            "Try using .loc[row_indexer,col_indexer] = value instead\n",
            "\n",
            "See the caveats in the documentation: https://pandas.pydata.org/pandas-docs/stable/user_guide/indexing.html#returning-a-view-versus-a-copy\n",
            "  test_df[\"COD_MUNICIPIO\"] = test_df[\"COD_MUNICIPIO_ORIGINAL\"]\n"
          ]
        }
      ]
    },
    {
      "cell_type": "code",
      "source": [
        "# Generar archivo CSV para Tableau con más variables disponibles\n",
        "test_df[\"SUSCRIPTORES_PREDICHOS\"] = y_test_pred\n",
        "test_df[[\"COD_MUNICIPIO\", \"AÑO\", \"MES\", \"FECHA\", \"PROVEEDOR\", \"VELOCIDAD_SUBIDA\", \"ANCHO_BANDA\", \"SUSCRIPTORES\", \"SUSCRIPTORES_PREDICHOS\"]].to_csv(\"predicciones_tableau.csv\", index=False)\n",
        "print(\"Archivo 'predicciones_tableau.csv' generado correctamente con todos los meses disponibles y más variables para análisis en Tableau.\")\n"
      ],
      "metadata": {
        "id": "2Cw3yNYmHIqg",
        "colab": {
          "base_uri": "https://localhost:8080/"
        },
        "outputId": "cd4e8ff1-a89e-42c5-a463-2138675e97d2"
      },
      "execution_count": null,
      "outputs": [
        {
          "output_type": "stream",
          "name": "stderr",
          "text": [
            "<ipython-input-9-bd6daba122d2>:2: SettingWithCopyWarning: \n",
            "A value is trying to be set on a copy of a slice from a DataFrame.\n",
            "Try using .loc[row_indexer,col_indexer] = value instead\n",
            "\n",
            "See the caveats in the documentation: https://pandas.pydata.org/pandas-docs/stable/user_guide/indexing.html#returning-a-view-versus-a-copy\n",
            "  test_df[\"SUSCRIPTORES_PREDICHOS\"] = y_test_pred\n"
          ]
        },
        {
          "output_type": "stream",
          "name": "stdout",
          "text": [
            "Archivo 'predicciones_tableau.csv' generado correctamente con todos los meses disponibles y más variables para análisis en Tableau.\n"
          ]
        }
      ]
    },
    {
      "cell_type": "code",
      "execution_count": null,
      "metadata": {
        "colab": {
          "base_uri": "https://localhost:8080/",
          "height": 34
        },
        "id": "7KJtCUui-0hl",
        "outputId": "8e19c783-0a91-49cc-8346-07abad427635"
      },
      "outputs": [
        {
          "output_type": "display_data",
          "data": {
            "text/plain": [
              "<IPython.core.display.Javascript object>"
            ],
            "application/javascript": [
              "\n",
              "    async function download(id, filename, size) {\n",
              "      if (!google.colab.kernel.accessAllowed) {\n",
              "        return;\n",
              "      }\n",
              "      const div = document.createElement('div');\n",
              "      const label = document.createElement('label');\n",
              "      label.textContent = `Downloading \"${filename}\": `;\n",
              "      div.appendChild(label);\n",
              "      const progress = document.createElement('progress');\n",
              "      progress.max = size;\n",
              "      div.appendChild(progress);\n",
              "      document.body.appendChild(div);\n",
              "\n",
              "      const buffers = [];\n",
              "      let downloaded = 0;\n",
              "\n",
              "      const channel = await google.colab.kernel.comms.open(id);\n",
              "      // Send a message to notify the kernel that we're ready.\n",
              "      channel.send({})\n",
              "\n",
              "      for await (const message of channel.messages) {\n",
              "        // Send a message to notify the kernel that we're ready.\n",
              "        channel.send({})\n",
              "        if (message.buffers) {\n",
              "          for (const buffer of message.buffers) {\n",
              "            buffers.push(buffer);\n",
              "            downloaded += buffer.byteLength;\n",
              "            progress.value = downloaded;\n",
              "          }\n",
              "        }\n",
              "      }\n",
              "      const blob = new Blob(buffers, {type: 'application/binary'});\n",
              "      const a = document.createElement('a');\n",
              "      a.href = window.URL.createObjectURL(blob);\n",
              "      a.download = filename;\n",
              "      div.appendChild(a);\n",
              "      a.click();\n",
              "      div.remove();\n",
              "    }\n",
              "  "
            ]
          },
          "metadata": {}
        },
        {
          "output_type": "display_data",
          "data": {
            "text/plain": [
              "<IPython.core.display.Javascript object>"
            ],
            "application/javascript": [
              "download(\"download_032739d8-f2ca-4702-9a54-7dac76766254\", \"predicciones_tableau.csv\", 32247595)"
            ]
          },
          "metadata": {}
        }
      ],
      "source": [
        "from google.colab import files\n",
        "files.download(\"predicciones_tableau.csv\")"
      ]
    },
    {
      "cell_type": "code",
      "execution_count": null,
      "metadata": {
        "colab": {
          "base_uri": "https://localhost:8080/"
        },
        "id": "jhIkAtMB3keH",
        "outputId": "afd2a827-0ab6-4cd7-c3ce-0b362a87bdb4"
      },
      "outputs": [
        {
          "output_type": "stream",
          "name": "stdout",
          "text": [
            "\n",
            "Primeras filas del dataset:\n",
            "        FECHA                                PROVEEDOR  COD_MUNICIPIO  \\\n",
            "0  2023-06-30                    DIRECTV COLOMBIA LTDA           8520   \n",
            "1  2021-06-30                              COCOM S.A.S          63272   \n",
            "2  2021-03-31      COMUNICACION CELULAR S A COMCEL S A           8001   \n",
            "3  2021-09-30  COLOMBIA TELECOMUNICACIONES S.A. E.S.P.          76001   \n",
            "4  2023-09-30                          DIFUDATOS S A S          25224   \n",
            "\n",
            "               SEGMENTO              TECNOLOGIA  VELOCIDAD_BAJADA  \\\n",
            "0  RESIDENCIAL_ESTRATO1  TECNOLOGIA_INALAMBRICA                 6   \n",
            "1  RESIDENCIAL_ESTRATO2  TECNOLOGIA_INALAMBRICA                 5   \n",
            "2  RESIDENCIAL_ESTRATO2         TECNOLOGIA_FIJA                10   \n",
            "3  RESIDENCIAL_ESTRATO5            FIBRA_OPTICA                15   \n",
            "4           CORPORATIVO  TECNOLOGIA_INALAMBRICA                30   \n",
            "\n",
            "   VELOCIDAD_SUBIDA  SUSCRIPTORES  ANCHO_BANDA  \n",
            "0                 1             3           18  \n",
            "1                 5             1            5  \n",
            "2                 5            43          430  \n",
            "3                 1            16          240  \n",
            "4                24             1           30  \n"
          ]
        }
      ],
      "source": [
        "# Visualizar las primeras filas del dataset\n",
        "print(\"\\nPrimeras filas del dataset:\")\n",
        "print(df.head())"
      ]
    },
    {
      "cell_type": "code",
      "execution_count": null,
      "metadata": {
        "colab": {
          "base_uri": "https://localhost:8080/"
        },
        "id": "tNiJQVoM6x9x",
        "outputId": "277a6c97-f6b7-4bda-8350-efe4988e7aa0"
      },
      "outputs": [
        {
          "output_type": "stream",
          "name": "stdout",
          "text": [
            "Columnas disponibles en el dataset:\n",
            "['FECHA', 'PROVEEDOR', 'COD_MUNICIPIO', 'SEGMENTO', 'TECNOLOGIA', 'VELOCIDAD_BAJADA', 'VELOCIDAD_SUBIDA', 'SUSCRIPTORES', 'ANCHO_BANDA']\n"
          ]
        }
      ],
      "source": [
        "print(\"Columnas disponibles en el dataset:\")\n",
        "print(df.columns.tolist())"
      ]
    },
    {
      "cell_type": "markdown",
      "metadata": {
        "id": "-AfFw0SnZQqV"
      },
      "source": [
        "# **CODIFICACION**"
      ]
    },
    {
      "cell_type": "code",
      "execution_count": null,
      "metadata": {
        "collapsed": true,
        "id": "qx_6wgOXZP3N"
      },
      "outputs": [],
      "source": [
        "# Suponiendo que 'df' es tu DataFrame y 'FECHA' es una columna en formato datetime\n",
        "df['FECHA'] = pd.to_datetime(df['FECHA'])  # Asegúrate de que la columna esté en formato datetime\n",
        "\n",
        "# Crear nuevas columnas para el año, mes y día como enteros\n",
        "df['AÑO'] = df['FECHA'].dt.year.astype(int)\n",
        "df['MES'] = df['FECHA'].dt.month.astype(int)\n",
        "df['DIA'] = df['FECHA'].dt.day.astype(int)\n",
        "\n",
        "# Mostrar el DataFrame resultante con las nuevas columnas\n",
        "print(df)"
      ]
    },
    {
      "cell_type": "code",
      "execution_count": null,
      "metadata": {
        "id": "A130MYgrvQID"
      },
      "outputs": [],
      "source": [
        "# Reordenar las columnas para colocar AÑO, MES, DIA al principio\n",
        "df = df[['AÑO', 'MES', 'DIA'] + [col for col in df.columns if col not in ['AÑO', 'MES', 'DIA']]]"
      ]
    },
    {
      "cell_type": "code",
      "execution_count": null,
      "metadata": {
        "id": "mOr7zyywZh_m"
      },
      "outputs": [],
      "source": [
        "#Elimina duplicados:\n",
        "\n",
        "df = df.drop_duplicates()\n",
        "print(df.duplicated().sum())"
      ]
    },
    {
      "cell_type": "code",
      "execution_count": null,
      "metadata": {
        "id": "Ag6WHk9H3D4D"
      },
      "outputs": [],
      "source": [
        "df = df.dropna()"
      ]
    },
    {
      "cell_type": "code",
      "execution_count": null,
      "metadata": {
        "id": "yYSU8STg2lJy"
      },
      "outputs": [],
      "source": [
        "for i in df.columns:\n",
        "    print (\"%20s\"%i, np.sum(df[i].isna()))"
      ]
    },
    {
      "cell_type": "markdown",
      "metadata": {
        "id": "QKLO_k1VgCjB"
      },
      "source": [
        "**- CODIFICACION DE VARIABLES CATEGORICAS (SEGMENTO, TECNOLOGIA Y PROVEEDOR)**"
      ]
    },
    {
      "cell_type": "code",
      "execution_count": null,
      "metadata": {
        "id": "fesbUpGTz0AE"
      },
      "outputs": [],
      "source": [
        "import pandas as pd\n",
        "import numpy as np\n",
        "\n",
        "def to_onehot(values):\n",
        "    \"\"\"Convierte un array de valores a una codificación One-Hot.\"\"\"\n",
        "    # Convertir todos los valores a string para evitar errores de comparación entre tipos\n",
        "    values = values.astype(str)\n",
        "    unique_values = np.unique(values)\n",
        "    return np.array([[1 if value == u else 0 for u in unique_values] for value in values])\n",
        "\n",
        "def replace_columns_with_onehot(d, cols):\n",
        "    \"\"\"Reemplaza varias columnas por su versión One-Hot en el DataFrame.\"\"\"\n",
        "    for col in cols:\n",
        "        # Asegurarse de que no haya valores nulos, convirtiéndolos en una categoría separada\n",
        "        d[col] = d[col].fillna('missing')  # O cualquier valor adecuado para 'NaN'\n",
        "\n",
        "        # Convertir la columna a string para evitar problemas con tipos mixtos\n",
        "        k = to_onehot(d[col].astype(str).values)\n",
        "\n",
        "        # Usar los valores únicos de la columna para los nombres de las columnas One-Hot\n",
        "        unique_values = np.unique(d[col].values)\n",
        "        onehot_df = pd.DataFrame(k, columns=[f\"{col}_{u}\" for u in unique_values], index=d.index)\n",
        "\n",
        "        # Unir las nuevas columnas One-Hot y eliminar la columna original\n",
        "        d = d.join(onehot_df)\n",
        "        del d[col]\n",
        "\n",
        "    return d\n",
        "\n",
        "# Reemplazar las columnas 'SEGMENTO' y 'TECNOLOGIA' por sus versiones One-Hot\n",
        "df = replace_columns_with_onehot(df, ['SEGMENTO', 'TECNOLOGIA'])\n"
      ]
    },
    {
      "cell_type": "code",
      "execution_count": null,
      "metadata": {
        "id": "Y2RwuV4T1aX-"
      },
      "outputs": [],
      "source": [
        "df = df.drop(columns=['FECHA'])"
      ]
    },
    {
      "cell_type": "code",
      "execution_count": null,
      "metadata": {
        "id": "4tjJeU2t08I_"
      },
      "outputs": [],
      "source": [
        "label_encoder = LabelEncoder()\n",
        "df['PROVEEDOR'] = label_encoder.fit_transform(df['PROVEEDOR'])\n",
        "df"
      ]
    },
    {
      "cell_type": "code",
      "execution_count": null,
      "metadata": {
        "id": "Ez1Z52_d2DLw"
      },
      "outputs": [],
      "source": [
        "df.dtypes"
      ]
    },
    {
      "cell_type": "code",
      "execution_count": null,
      "metadata": {
        "id": "d8OaV31swhXG"
      },
      "outputs": [],
      "source": [
        "df.head(30)"
      ]
    },
    {
      "cell_type": "code",
      "execution_count": null,
      "metadata": {
        "id": "Yu2Ixmehzigm"
      },
      "outputs": [],
      "source": [
        "from google.colab import files\n",
        "import pandas as pd\n",
        "\n",
        "# Supongamos que df es tu DataFrame\n",
        "df.to_csv(\"archivo.csv\", index=False)\n",
        "\n",
        "# Descargar el archivo\n",
        "files.download(\"archivo.csv\")"
      ]
    },
    {
      "cell_type": "markdown",
      "metadata": {
        "id": "pZhIj8J0EYzr"
      },
      "source": [
        "# **2. ENTRENAMIENTO CON RandomForestRegressor**"
      ]
    },
    {
      "cell_type": "code",
      "execution_count": null,
      "metadata": {
        "id": "3AIDCFn83n38"
      },
      "outputs": [],
      "source": [
        "print(df.columns.tolist())"
      ]
    },
    {
      "cell_type": "code",
      "execution_count": null,
      "metadata": {
        "id": "DPZ8boS1Mwfc"
      },
      "outputs": [],
      "source": [
        "import numpy as np\n",
        "import pandas as pd\n",
        "from sklearn.model_selection import train_test_split\n",
        "from sklearn.ensemble import RandomForestRegressor\n",
        "from sklearn.pipeline import Pipeline\n",
        "from sklearn.compose import ColumnTransformer\n",
        "from sklearn.preprocessing import StandardScaler, OneHotEncoder\n",
        "from sklearn.metrics import mean_squared_error, r2_score\n",
        "\n",
        "# 1. Selección de variables relevantes\n",
        "variables_relevantes = ['AÑO', 'MES', 'DIA', 'PROVEEDOR', 'COD_MUNICIPIO', 'VELOCIDAD_BAJADA', 'VELOCIDAD_SUBIDA', 'SUSCRIPTORES', 'ANCHO_BANDA', 'SEGMENTO_CORPORATIVO', 'SEGMENTO_RESIDENCIAL_ESTRATO1', 'SEGMENTO_RESIDENCIAL_ESTRATO2', 'SEGMENTO_RESIDENCIAL_ESTRATO3', 'SEGMENTO_RESIDENCIAL_ESTRATO4', 'SEGMENTO_RESIDENCIAL_ESTRATO5', 'SEGMENTO_RESIDENCIAL_ESTRATO6', 'SEGMENTO_SIN_ESTRATIFICAR', 'SEGMENTO_USO_PROPIO_INTERNO_DEL_OPERADOR', 'TECNOLOGIA_FIBRA_OPTICA', 'TECNOLOGIA_HIBRIDA', 'TECNOLOGIA_OTRAS_TECNOLOGIAS', 'TECNOLOGIA_TECNOLOGIA_FIJA', 'TECNOLOGIA_TECNOLOGIA_INALAMBRICA']\n",
        "\n",
        "df = df[variables_relevantes]\n",
        "\n",
        "# 2. Muestreo de los datos para pruebas rápidas - 50%\n",
        "df_sample = df.sample(frac=0.5, random_state=42)\n",
        "\n",
        "# 3. Separar características (X) y la variable objetivo (y)\n",
        "X = df_sample.drop(columns=['SUSCRIPTORES'])\n",
        "y = df_sample['SUSCRIPTORES']\n",
        "\n",
        "# 4. División en conjunto de entrenamiento y prueba\n",
        "X_train, X_test, y_train, y_test = train_test_split(X, y, test_size=0.2, random_state=42)\n",
        "\n",
        "# 5. Definir el preprocesador para las columnas numéricas y categóricas\n",
        "# Para las columnas numéricas utilizamos StandardScaler, y para las categóricas OneHotEncoder.\n",
        "numerical_cols = X.select_dtypes(include=['float64', 'int64']).columns\n",
        "categorical_cols = X.select_dtypes(include=['object']).columns\n",
        "\n",
        "# Crear el preprocesador\n",
        "preprocessor = ColumnTransformer(\n",
        "    transformers=[\n",
        "        ('num', StandardScaler(), numerical_cols),  # Normalizar variables numéricas\n",
        "        ('cat', OneHotEncoder(handle_unknown='ignore'), categorical_cols)  # Codificar variables categóricas\n",
        "    ])\n",
        "\n",
        "# 6. Modelo Random Forest ajustado inicial\n",
        "pipeline = Pipeline(steps=[\n",
        "    ('preprocessor', preprocessor),\n",
        "    ('regressor', RandomForestRegressor(n_estimators=100, max_depth=7,\n",
        "                                        random_state=42, min_samples_split=10,\n",
        "                                        min_samples_leaf=5))\n",
        "])\n",
        "\n",
        "# 7. Entrenar el modelo\n",
        "pipeline.fit(X_train, y_train)\n",
        "\n",
        "# 8. Predicciones y evaluación\n",
        "def evaluar_modelo(pipeline, X_train, X_test, y_train, y_test):\n",
        "    # Predicciones\n",
        "    y_pred_train = pipeline.predict(X_train)\n",
        "    y_pred_test = pipeline.predict(X_test)\n",
        "\n",
        "    # Métricas\n",
        "    mse_train = mean_squared_error(y_train, y_pred_train)\n",
        "    r2_train = r2_score(y_train, y_pred_train)\n",
        "    mse_test = mean_squared_error(y_test, y_pred_test)\n",
        "    r2_test = r2_score(y_test, y_pred_test)\n",
        "\n",
        "    # Medir precisión del modelo\n",
        "    print(f'Métricas en el conjunto de entrenamiento:')\n",
        "    print(f'   MSE: {mse_train:.2f}, R^2(Coeficiente de Determinación): {r2_train:.4f}')\n",
        "    print(f'Métricas en el conjunto de prueba:')\n",
        "    print(f'   MSE: {mse_test:.2f}, R^2(Coeficiente de Determinación): {r2_test:.4f}')\n",
        "\n",
        "# Evaluar el modelo\n",
        "evaluar_modelo(pipeline, X_train, X_test, y_train, y_test)\n"
      ]
    },
    {
      "cell_type": "code",
      "execution_count": null,
      "metadata": {
        "id": "ico3485beddi"
      },
      "outputs": [],
      "source": [
        "# 9. Exportar las predicciones para Tableau\n",
        "def exportar_predicciones(pipeline, X_test, y_test, output_path=\"predicciones_random_forest.csv\"):\n",
        "    # Generar predicciones\n",
        "    y_pred = pipeline.predict(X_test)\n",
        "\n",
        "    # Crear un DataFrame con las características originales, valores reales y predicciones\n",
        "    resultados = X_test.copy()\n",
        "    resultados['Real'] = y_test.values  # Valores reales\n",
        "    resultados['Predicción'] = y_pred  # Predicciones del modelo\n",
        "\n",
        "    # Guardar en un archivo CSV\n",
        "    resultados.to_csv(output_path, index=False)\n",
        "    print(f\"Archivo exportado a: {output_path}\")\n",
        "\n",
        "# Exportar los resultados\n",
        "exportar_predicciones(pipeline, X_test, y_test)"
      ]
    },
    {
      "cell_type": "code",
      "execution_count": null,
      "metadata": {
        "id": "UdQ7-oqLf0GM"
      },
      "outputs": [],
      "source": [
        "from google.colab import files\n",
        "files.download(\"predicciones_random_forest.csv\")"
      ]
    },
    {
      "cell_type": "code",
      "execution_count": null,
      "metadata": {
        "id": "4VQb8koAm_Nq"
      },
      "outputs": [],
      "source": [
        "from sklearn.model_selection import cross_val_score\n",
        "\n",
        "# Usando el Random Forest como ejemplo:\n",
        "scores = cross_val_score(pipeline, X, y, cv=5, scoring='neg_mean_squared_error')  # Cambiar por el modelo que uses\n",
        "print(f'MSE promedio en 5 particiones: {-scores.mean():.2f}')\n"
      ]
    },
    {
      "cell_type": "code",
      "execution_count": null,
      "metadata": {
        "id": "k9G84f58N5ml"
      },
      "outputs": [],
      "source": [
        "from sklearn.model_selection import cross_val_score\n",
        "\n",
        "# Realizar la validación cruzada con el modelo y los datos de entrenamiento\n",
        "cv_scores = cross_val_score(pipeline, X_train, y_train, cv=5, scoring='neg_mean_squared_error')\n",
        "\n",
        "# Promedio de las puntuaciones de los 5 pliegues (folds)\n",
        "print(f'MSE promedio en validación cruzada: {-cv_scores.mean():.2f}')\n",
        "\n"
      ]
    },
    {
      "cell_type": "markdown",
      "metadata": {
        "id": "u0w1GEsTNiPN"
      },
      "source": []
    },
    {
      "cell_type": "markdown",
      "metadata": {
        "id": "SAwUunoBFvut"
      },
      "source": [
        "# **3. ENTRENAMIENTO CON XGBoost**"
      ]
    },
    {
      "cell_type": "code",
      "execution_count": null,
      "metadata": {
        "collapsed": true,
        "id": "UCAVLLJL6JHG"
      },
      "outputs": [],
      "source": [
        "# 2. Selección de las características (X) y la variable objetivo (y)\n",
        "X = df[['AÑO', 'MES', 'DIA', 'PROVEEDOR', 'COD_MUNICIPIO', 'VELOCIDAD_BAJADA', 'VELOCIDAD_SUBIDA', 'SUSCRIPTORES', 'ANCHO_BANDA', 'SEGMENTO_CORPORATIVO', 'SEGMENTO_RESIDENCIAL_ESTRATO1', 'SEGMENTO_RESIDENCIAL_ESTRATO2', 'SEGMENTO_RESIDENCIAL_ESTRATO3', 'SEGMENTO_RESIDENCIAL_ESTRATO4', 'SEGMENTO_RESIDENCIAL_ESTRATO5', 'SEGMENTO_RESIDENCIAL_ESTRATO6', 'SEGMENTO_SIN_ESTRATIFICAR', 'SEGMENTO_USO_PROPIO_INTERNO_DEL_OPERADOR', 'TECNOLOGIA_FIBRA_OPTICA', 'TECNOLOGIA_HIBRIDA', 'TECNOLOGIA_OTRAS_TECNOLOGIAS', 'TECNOLOGIA_TECNOLOGIA_FIJA', 'TECNOLOGIA_TECNOLOGIA_INALAMBRICA']]\n",
        "y = df['SUSCRIPTORES']  # Variable objetivo: número de accesos\n",
        "\n",
        "# 3. Normalizar las características numéricas\n",
        "scaler = StandardScaler()\n",
        "X[['VELOCIDAD_BAJADA', 'VELOCIDAD_SUBIDA']] = scaler.fit_transform(X[['VELOCIDAD_BAJADA', 'VELOCIDAD_SUBIDA']])\n",
        "\n",
        "# 4. División en entrenamiento y test\n",
        "X_train, X_test, y_train, y_test = train_test_split(X, y, test_size=0.2, random_state=42)\n"
      ]
    },
    {
      "cell_type": "code",
      "execution_count": null,
      "metadata": {
        "id": "14SzIaaGRCHO"
      },
      "outputs": [],
      "source": [
        "# 5. Crear y entrenar el modelo XGBoost\n",
        "\n",
        "#n_estimators=200, learning_rate=0.1, max_depth=5\n",
        "xgb_model = XGBRegressor(n_estimators=200, learning_rate=0.1, max_depth=5)\n",
        "xgb_model.fit(X_train, y_train)\n",
        "\n",
        "# 6. Predicciones en el conjunto de entrenamiento\n",
        "y_pred_train = xgb_model.predict(X_train)\n",
        "\n",
        "# 7. Calcular el MSE y R^2 en el conjunto de entrenamiento\n",
        "mse_train = mean_squared_error(y_train, y_pred_train)\n",
        "r2_train = r2_score(y_train, y_pred_train)\n",
        "\n",
        "# 8. Predicciones en el conjunto de test\n",
        "y_pred = xgb_model.predict(X_test)\n",
        "\n",
        "# 9. Calcular el MSE y R^2 en el conjunto de prueba\n",
        "mse_test = mean_squared_error(y_test, y_pred)\n",
        "r2_test = r2_score(y_test, y_pred)\n",
        "\n",
        "# 10. Mostrar resultados\n",
        "print(f'METRICAS CONJUNTO DE ENTRENAMIENTO(TRAIN):')\n",
        "print(f'   MSE: {mse_train:.2f}, R^2: {r2_train:.4f}')\n",
        "print(f'METRICAS CONJUNTO DE PRUEBA(TEST):')\n",
        "print(f'   MSE: {mse_test:.2f}, R^2: {r2_test:.4f}')"
      ]
    },
    {
      "cell_type": "code",
      "execution_count": null,
      "metadata": {
        "collapsed": true,
        "id": "nv62zDlZDlNv"
      },
      "outputs": [],
      "source": [
        "import seaborn as sns\n",
        "import matplotlib.pyplot as plt\n",
        "\n",
        "corr_matrix = df.corr()\n",
        "plt.figure(figsize=(12, 8))\n",
        "sns.heatmap(corr_matrix, annot=True, cmap='coolwarm')\n",
        "plt.title(\"Matriz de correlación\")\n",
        "plt.show()\n"
      ]
    },
    {
      "cell_type": "code",
      "execution_count": null,
      "metadata": {
        "id": "ncd6TngQEToQ"
      },
      "outputs": [],
      "source": [
        "pip install --upgrade scikit-learn\n"
      ]
    },
    {
      "cell_type": "code",
      "execution_count": null,
      "metadata": {
        "id": "IQco4i0EEaKo"
      },
      "outputs": [],
      "source": [
        "pip install --upgrade xgboost\n"
      ]
    },
    {
      "cell_type": "code",
      "execution_count": null,
      "metadata": {
        "id": "C7iZUswEEgmS"
      },
      "outputs": [],
      "source": [
        "from xgboost import XGBRegressor\n",
        "\n",
        "class CompatibleXGBRegressor(XGBRegressor):\n",
        "    def __sklearn_tags__(self):\n",
        "        return super()._get_tags()\n",
        "\n",
        "xgb_model = CompatibleXGBRegressor()\n"
      ]
    },
    {
      "cell_type": "code",
      "execution_count": null,
      "metadata": {
        "id": "kbBcLKJPD5gf"
      },
      "outputs": [],
      "source": [
        "from sklearn.model_selection import train_test_split\n",
        "from sklearn.metrics import mean_squared_error\n",
        "\n",
        "# Define manual parameter grid\n",
        "param_grid = {\n",
        "    'n_estimators': [100, 200],\n",
        "    'learning_rate': [0.05, 0.1],\n",
        "    'max_depth': [3, 5],\n",
        "}\n",
        "\n",
        "best_model = None\n",
        "best_score = float(\"inf\")\n",
        "for n in param_grid['n_estimators']:\n",
        "    for lr in param_grid['learning_rate']:\n",
        "        for depth in param_grid['max_depth']:\n",
        "            model = XGBRegressor(n_estimators=n, learning_rate=lr, max_depth=depth, random_state=42)\n",
        "            model.fit(X_train, y_train)\n",
        "            predictions = model.predict(X_test)\n",
        "            mse = mean_squared_error(y_test, predictions)\n",
        "            if mse < best_score:\n",
        "                best_score = mse\n",
        "                best_model = model\n",
        "\n",
        "print(f\"Best parameters: n_estimators={best_model.get_params()['n_estimators']}, \"\n",
        "      f\"learning_rate={best_model.get_params()['learning_rate']}, \"\n",
        "      f\"max_depth={best_model.get_params()['max_depth']}\")\n",
        "print(f\"Best MSE: {best_score}\")\n",
        "\n"
      ]
    },
    {
      "cell_type": "markdown",
      "metadata": {
        "id": "Rl_wzNNy-Hvu"
      },
      "source": []
    },
    {
      "cell_type": "markdown",
      "metadata": {
        "id": "vqUhSQNV94Ut"
      },
      "source": [
        "# **4. PENDIENTE POR ENTRENAMIENTO CON LightGBM**"
      ]
    },
    {
      "cell_type": "code",
      "execution_count": null,
      "metadata": {
        "id": "A_yi5Pq0dxGu"
      },
      "outputs": [],
      "source": [
        "import lightgbm as lgb\n",
        "from sklearn.model_selection import train_test_split\n",
        "from sklearn.metrics import mean_squared_error, r2_score\n",
        "\n",
        "# 1. Selección de características y variable objetivo\n",
        "X = df[['AÑO', 'MES', 'DIA', 'PROVEEDOR', 'COD_MUNICIPIO', 'VELOCIDAD_BAJADA', 'VELOCIDAD_SUBIDA', 'SUSCRIPTORES', 'ANCHO_BANDA',\n",
        "        'SEGMENTO_CORPORATIVO', 'SEGMENTO_RESIDENCIAL_ESTRATO1', 'SEGMENTO_RESIDENCIAL_ESTRATO2', 'SEGMENTO_RESIDENCIAL_ESTRATO3',\n",
        "        'SEGMENTO_RESIDENCIAL_ESTRATO4', 'SEGMENTO_RESIDENCIAL_ESTRATO5', 'SEGMENTO_RESIDENCIAL_ESTRATO6', 'SEGMENTO_SIN_ESTRATIFICAR',\n",
        "        'SEGMENTO_USO_PROPIO_INTERNO_DEL_OPERADOR', 'TECNOLOGIA_FIBRA_OPTICA', 'TECNOLOGIA_HIBRIDA', 'TECNOLOGIA_OTRAS_TECNOLOGIAS',\n",
        "        'TECNOLOGIA_TECNOLOGIA_FIJA', 'TECNOLOGIA_TECNOLOGIA_INALAMBRICA']]\n",
        "\n",
        "# Variable objetivo\n",
        "y = df['SUSCRIPTORES']\n",
        "\n",
        "# 2. División en entrenamiento y test\n",
        "X_train, X_test, y_train, y_test = train_test_split(X, y, test_size=0.2, random_state=42)\n",
        "\n",
        "# 3. Crear el modelo LightGBM\n",
        "lgb_model = lgb.LGBMRegressor(n_estimators=200, learning_rate=0.05, max_depth=7, random_state=42)\n",
        "\n",
        "# 4. Entrenar el modelo\n",
        "lgb_model.fit(X_train, y_train)\n",
        "\n",
        "# 5. Predicciones y evaluación\n",
        "y_pred_train = lgb_model.predict(X_train)\n",
        "y_pred_test = lgb_model.predict(X_test)\n",
        "\n",
        "# 6. Calcular las métricas\n",
        "mse_train = mean_squared_error(y_train, y_pred_train)\n",
        "r2_train = r2_score(y_train, y_pred_train)\n",
        "mse_test = mean_squared_error(y_test, y_pred_test)\n",
        "r2_test = r2_score(y_test, y_pred_test)\n",
        "\n",
        "# 7. Mostrar resultados\n",
        "print(f'METRICAS CONJUNTO DE ENTRENAMIENTO (TRAIN):')\n",
        "print(f'   MSE: {mse_train:.2f}, R^2: {r2_train:.4f}')\n",
        "print(f'METRICAS CONJUNTO DE PRUEBA (TEST):')\n",
        "print(f'   MSE: {mse_test:.2f}, R^2: {r2_test:.4f}')\n"
      ]
    },
    {
      "cell_type": "markdown",
      "metadata": {
        "id": "5Haz8_eAeD3H"
      },
      "source": [
        "# **5. MODELO ARIMA**"
      ]
    },
    {
      "cell_type": "code",
      "execution_count": null,
      "metadata": {
        "collapsed": true,
        "id": "4ciNq4UDeEVq"
      },
      "outputs": [],
      "source": [
        "import pandas as pd\n",
        "import numpy as np\n",
        "from statsmodels.tsa.arima.model import ARIMA\n",
        "from sklearn.metrics import mean_squared_error, r2_score\n",
        "\n",
        "# Asegúrate de que las columnas 'DIA', 'MES' y 'AÑO' existan\n",
        "if 'DIA' in df.columns and 'MES' in df.columns and 'AÑO' in df.columns:\n",
        "    df['FECHA'] = pd.to_datetime(df[['AÑO', 'MES', 'DIA']])\n",
        "else:\n",
        "    print(\"Las columnas 'DIA', 'MES', y 'AÑO' no están presentes en el DataFrame.\")\n",
        "    # Aquí podrías tomar medidas adicionales, como renombrar columnas o asignarlas manualmente.\n",
        "\n",
        "df.set_index('FECHA', inplace=True)\n",
        "\n",
        "# Continuar con el resto del flujo\n",
        "y = df['SUSCRIPTORES']\n",
        "\n",
        "# División en conjunto de entrenamiento y prueba\n",
        "train_size = int(len(y) * 0.8)\n",
        "train, test = y[:train_size], y[train_size:]\n",
        "\n",
        "# Ajustar el modelo ARIMA\n",
        "arima_model = ARIMA(train, order=(5, 1, 0))  # Puedes ajustar los parámetros\n",
        "arima_model_fit = arima_model.fit()\n",
        "\n",
        "# Predicciones\n",
        "y_pred_train = arima_model_fit.predict(start=0, end=len(train)-1, typ='levels')\n",
        "y_pred_test = arima_model_fit.forecast(steps=len(test))\n",
        "\n",
        "# Evaluación\n",
        "mse_train = mean_squared_error(train, y_pred_train)\n",
        "r2_train = r2_score(train, y_pred_train)\n",
        "mse_test = mean_squared_error(test, y_pred_test)\n",
        "r2_test = r2_score(test, y_pred_test)\n",
        "\n",
        "# Mostrar resultados\n",
        "print(f'METRICAS CONJUNTO DE ENTRENAMIENTO (TRAIN):')\n",
        "print(f'   MSE: {mse_train:.2f}, R^2: {r2_train:.4f}')\n",
        "print(f'METRICAS CONJUNTO DE PRUEBA (TEST):')\n",
        "print(f'   MSE: {mse_test:.2f}, R^2: {r2_test:.4f}')\n"
      ]
    },
    {
      "cell_type": "markdown",
      "metadata": {
        "id": "vkOa6GJf20fe"
      },
      "source": [
        "# **5. PENDIENTE POR BUSQUEDA DE PARAMETROS CON GRIDSEARCH**"
      ]
    },
    {
      "cell_type": "code",
      "execution_count": null,
      "metadata": {
        "id": "YDFOy3NqUKGU"
      },
      "outputs": [],
      "source": [
        "import numpy as np\n",
        "import pandas as pd\n",
        "from sklearn.model_selection import train_test_split, GridSearchCV\n",
        "from sklearn.ensemble import RandomForestRegressor\n",
        "from sklearn.pipeline import Pipeline\n",
        "from sklearn.compose import ColumnTransformer\n",
        "from sklearn.preprocessing import StandardScaler, OneHotEncoder\n",
        "from sklearn.metrics import mean_squared_error, r2_score\n",
        "\n",
        "# 1. Selección de variables relevantes\n",
        "variables_relevantes = ['AÑO', 'MES', 'DIA', 'PROVEEDOR', 'COD_MUNICIPIO', 'VELOCIDAD_BAJADA', 'VELOCIDAD_SUBIDA',\n",
        "                        'SUSCRIPTORES', 'ANCHO_BANDA', 'SEGMENTO_CORPORATIVO', 'SEGMENTO_RESIDENCIAL_ESTRATO1',\n",
        "                        'SEGMENTO_RESIDENCIAL_ESTRATO2', 'SEGMENTO_RESIDENCIAL_ESTRATO3', 'SEGMENTO_RESIDENCIAL_ESTRATO4',\n",
        "                        'SEGMENTO_RESIDENCIAL_ESTRATO5', 'SEGMENTO_RESIDENCIAL_ESTRATO6', 'SEGMENTO_SIN_ESTRATIFICAR',\n",
        "                        'SEGMENTO_USO_PROPIO_INTERNO_DEL_OPERADOR', 'TECNOLOGIA_FIBRA_OPTICA', 'TECNOLOGIA_HIBRIDA',\n",
        "                        'TECNOLOGIA_OTRAS_TECNOLOGIAS', 'TECNOLOGIA_TECNOLOGIA_FIJA', 'TECNOLOGIA_TECNOLOGIA_INALAMBRICA']\n",
        "\n",
        "df = df[variables_relevantes]\n",
        "\n",
        "# 2. Muestreo de los datos para pruebas rápidas - 30%\n",
        "df_sample = df.sample(frac=0.1, random_state=42)\n",
        "\n",
        "# 3. Separar características (X) y la variable objetivo (y)\n",
        "X = df_sample.drop(columns=['SUSCRIPTORES'])\n",
        "y = df_sample['SUSCRIPTORES']\n",
        "\n",
        "# 4. División en conjunto de entrenamiento y prueba\n",
        "X_train, X_test, y_train, y_test = train_test_split(X, y, test_size=0.2, random_state=42)\n",
        "\n",
        "# 5. Definir el preprocesador para las columnas numéricas y categóricas\n",
        "numerical_cols = X.select_dtypes(include=['float64', 'int64']).columns\n",
        "categorical_cols = X.select_dtypes(include=['object']).columns\n",
        "\n",
        "# Crear el preprocesador\n",
        "preprocessor = ColumnTransformer(\n",
        "    transformers=[\n",
        "        ('num', StandardScaler(), numerical_cols),  # Normalizar variables numéricas\n",
        "        ('cat', OneHotEncoder(handle_unknown='ignore'), categorical_cols)  # Codificar variables categóricas\n",
        "    ])\n",
        "\n",
        "# 6. Definir el pipeline con el RandomForestRegressor\n",
        "pipeline = Pipeline(steps=[\n",
        "    ('preprocessor', preprocessor),\n",
        "    ('regressor', RandomForestRegressor(random_state=42))\n",
        "])\n",
        "\n",
        "# 7. Definir el GridSearchCV con los parámetros a explorar\n",
        "param_grid = {\n",
        "    'regressor__n_estimators': [200, 300],\n",
        "    'regressor__max_depth': [5, 7],\n",
        "    'regressor__min_samples_split': [5, 10],\n",
        "    'regressor__min_samples_leaf': [2, 4],\n",
        "\n",
        "}\n",
        "\n",
        "# 8. Crear el objeto GridSearchCV\n",
        "grid_search = GridSearchCV(pipeline, param_grid, cv=3, verbose=1, n_jobs=-1)\n",
        "\n",
        "# 9. Entrenar el modelo con la búsqueda de los mejores parámetros\n",
        "grid_search.fit(X_train, y_train)\n",
        "\n",
        "# 10. Mostrar los mejores parámetros encontrados\n",
        "print(\"Mejores parámetros encontrados:\", grid_search.best_params_)\n",
        "\n",
        "# 11. Usar el mejor modelo encontrado para hacer predicciones\n",
        "best_model = grid_search.best_estimator_\n",
        "y_pred_train = best_model.predict(X_train)\n",
        "y_pred_test = best_model.predict(X_test)\n",
        "\n",
        "# 12. Evaluar el modelo\n",
        "def evaluar_modelo(modelo, X_train, X_test, y_train, y_test):\n",
        "    # Métricas\n",
        "    mse_train = mean_squared_error(y_train, y_pred_train)\n",
        "    r2_train = r2_score(y_train, y_pred_train)\n",
        "    mse_test = mean_squared_error(y_test, y_pred_test)\n",
        "    r2_test = r2_score(y_test, y_pred_test)\n",
        "\n",
        "    # Mostrar resultados\n",
        "    print(f'Métricas en el conjunto de entrenamiento:')\n",
        "    print(f'   MSE: {mse_train:.2f}, R^2(Coeficiente de Determinación): {r2_train:.4f}')\n",
        "    print(f'Métricas en el conjunto de prueba:')\n",
        "    print(f'   MSE: {mse_test:.2f}, R^2(Coeficiente de Determinación): {r2_test:.4f}')\n",
        "\n",
        "# Evaluar el modelo\n",
        "evaluar_modelo(best_model, X_train, X_test, y_train, y_test)\n"
      ]
    }
  ],
  "metadata": {
    "colab": {
      "collapsed_sections": [
        "-AfFw0SnZQqV",
        "cUzD7zGe6KYd"
      ],
      "provenance": [],
      "include_colab_link": true
    },
    "kernelspec": {
      "display_name": "Python 3",
      "name": "python3"
    },
    "language_info": {
      "name": "python"
    }
  },
  "nbformat": 4,
  "nbformat_minor": 0
}